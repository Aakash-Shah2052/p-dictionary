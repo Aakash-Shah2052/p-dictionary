{
  "nbformat": 4,
  "nbformat_minor": 0,
  "metadata": {
    "kernelspec": {
      "display_name": "Python 3",
      "language": "python",
      "name": "python3"
    },
    "language_info": {
      "codemirror_mode": {
        "name": "ipython",
        "version": 3
      },
      "file_extension": ".py",
      "mimetype": "text/x-python",
      "name": "python",
      "nbconvert_exporter": "python",
      "pygments_lexer": "ipython3",
      "version": "3.7.1"
    },
    "colab": {
      "name": "dictionary.ipynb",
      "provenance": []
    }
  },
  "cells": [
    {
      "cell_type": "code",
      "metadata": {
        "id": "lWbVLpYvMu4t"
      },
      "source": [
        "# Dictionary\n",
        "# -Indexed\n",
        "# -duplicate members\n",
        "# -ordered\n",
        "# -mutable\n",
        "# -no duplicate index"
      ],
      "execution_count": null,
      "outputs": []
    },
    {
      "cell_type": "code",
      "metadata": {
        "id": "MtaSQAJzMu41",
        "outputId": "c17a5f9f-289b-4671-a644-d590a9298d3b"
      },
      "source": [
        "a = {}\n",
        "b = dict()\n",
        "print(a)\n",
        "print(b)"
      ],
      "execution_count": null,
      "outputs": [
        {
          "output_type": "stream",
          "text": [
            "{}\n",
            "{}\n"
          ],
          "name": "stdout"
        }
      ]
    },
    {
      "cell_type": "code",
      "metadata": {
        "id": "LOC7LvUXMu43"
      },
      "source": [
        "# a = {<Key>:<value>,<key>:<value>,...}"
      ],
      "execution_count": null,
      "outputs": []
    },
    {
      "cell_type": "code",
      "metadata": {
        "id": "oKuwJfx0Mu43",
        "outputId": "de6e6643-c279-422e-8d39-ed6959e6e7a6"
      },
      "source": [
        "a = {'A':\"Apple\",\"B\":\"Ball\"}\n",
        "b = {1:\"Apple\",2:\"Ball\"}\n",
        "# c = [\"Apple\",\"Ball\"]\n",
        "print(b[1])"
      ],
      "execution_count": null,
      "outputs": [
        {
          "output_type": "stream",
          "text": [
            "Apple\n"
          ],
          "name": "stdout"
        }
      ]
    },
    {
      "cell_type": "code",
      "metadata": {
        "id": "WJZRrVKwMu44",
        "outputId": "0d4550d9-62d9-40bf-ad4b-14a6ebc30925"
      },
      "source": [
        "a = {'a':'apple','A':'apple'}\n",
        "a"
      ],
      "execution_count": null,
      "outputs": [
        {
          "output_type": "execute_result",
          "data": {
            "text/plain": [
              "{'a': 'apple', 'A': 'apple'}"
            ]
          },
          "metadata": {
            "tags": []
          },
          "execution_count": 11
        }
      ]
    },
    {
      "cell_type": "code",
      "metadata": {
        "id": "w0O9a2SEMu44",
        "outputId": "9d260e86-305b-4b3f-95b8-33e6fc04f13a"
      },
      "source": [
        "a = {'a':'apple','a':'Apple'}\n",
        "a"
      ],
      "execution_count": null,
      "outputs": [
        {
          "output_type": "execute_result",
          "data": {
            "text/plain": [
              "{'a': 'Apple'}"
            ]
          },
          "metadata": {
            "tags": []
          },
          "execution_count": 13
        }
      ]
    },
    {
      "cell_type": "code",
      "metadata": {
        "id": "_kHtYJqrMu45",
        "outputId": "18b2a4c6-9572-4f62-d0d3-9fbccb4970e8"
      },
      "source": [
        "a = {'a':\"Apple\"}\n",
        "a['a'] = 'Ant'\n",
        "a"
      ],
      "execution_count": null,
      "outputs": [
        {
          "output_type": "execute_result",
          "data": {
            "text/plain": [
              "{'a': 'Ant'}"
            ]
          },
          "metadata": {
            "tags": []
          },
          "execution_count": 17
        }
      ]
    },
    {
      "cell_type": "code",
      "metadata": {
        "id": "hnyCTZODMu45",
        "outputId": "54d8bcbf-cd34-4f17-f6d3-e8491629f5ac"
      },
      "source": [
        "a = {}\n",
        "a['a'] = 'apple'\n",
        "a['b'] = 'ball'\n",
        "a"
      ],
      "execution_count": null,
      "outputs": [
        {
          "output_type": "execute_result",
          "data": {
            "text/plain": [
              "{'a': 'apple', 'b': 'ball'}"
            ]
          },
          "metadata": {
            "tags": []
          },
          "execution_count": 20
        }
      ]
    },
    {
      "cell_type": "code",
      "metadata": {
        "id": "AwPpmHFTMu46",
        "outputId": "67838156-bf5c-43ab-b89f-7c2c2682a684"
      },
      "source": [
        "a = {}\n",
        "n = int(input(\"Enter n = \"))\n",
        "for i in range(n):\n",
        "    x = input(\"Enter x = \")\n",
        "    a[i] = x\n",
        "print(a)"
      ],
      "execution_count": null,
      "outputs": [
        {
          "output_type": "stream",
          "text": [
            "Enter n = 2\n",
            "Enter x = Apple\n",
            "Enter x = Ball\n",
            "{0: 'Apple', 1: 'Ball'}\n"
          ],
          "name": "stdout"
        }
      ]
    },
    {
      "cell_type": "code",
      "metadata": {
        "id": "fLzG8VONMu46",
        "outputId": "974d8653-b061-4fbc-acb5-f29f6b9dc88c"
      },
      "source": [
        "a = {}\n",
        "n = int(input(\"Enter n = \"))\n",
        "for i in range(n):\n",
        "    name = input(\"Enter name = \")\n",
        "    phone = int(input(\"Enter Phone = \"))\n",
        "    \n",
        "    a[name] = phone\n",
        "print(a)"
      ],
      "execution_count": null,
      "outputs": [
        {
          "output_type": "stream",
          "text": [
            "Enter n = 2\n",
            "Enter name = Ram\n",
            "Enter Phone = 9867576765\n",
            "Enter name = Shyam\n",
            "Enter Phone = 9857657\n",
            "{'Ram': 9867576765, 'Shyam': 9857657}\n"
          ],
          "name": "stdout"
        }
      ]
    },
    {
      "cell_type": "code",
      "metadata": {
        "id": "whhtQ6c1Mu46",
        "outputId": "538081b1-4a9a-40f3-e91e-4c86ee7135da"
      },
      "source": [
        "for i in a:\n",
        "    print(i)"
      ],
      "execution_count": null,
      "outputs": [
        {
          "output_type": "stream",
          "text": [
            "Ram\n",
            "Shyam\n"
          ],
          "name": "stdout"
        }
      ]
    },
    {
      "cell_type": "code",
      "metadata": {
        "id": "myClRz01Mu47",
        "outputId": "5056ab96-e991-4513-d45f-1933c8d72f13"
      },
      "source": [
        "for i in a.values():\n",
        "    print(i)"
      ],
      "execution_count": null,
      "outputs": [
        {
          "output_type": "stream",
          "text": [
            "9867576765\n",
            "9857657\n"
          ],
          "name": "stdout"
        }
      ]
    },
    {
      "cell_type": "code",
      "metadata": {
        "id": "B6EdeOrIMu47",
        "outputId": "7905f49a-940e-418a-f01b-158787929e8f"
      },
      "source": [
        "for i in a.items():\n",
        "    print(i)"
      ],
      "execution_count": null,
      "outputs": [
        {
          "output_type": "stream",
          "text": [
            "('Ram', 9867576765)\n",
            "('Shyam', 9857657)\n"
          ],
          "name": "stdout"
        }
      ]
    },
    {
      "cell_type": "code",
      "metadata": {
        "id": "ERmPLem4Mu47",
        "outputId": "8882ea4b-0c58-4a34-b16d-885976798206"
      },
      "source": [
        "l = []\n",
        "for i in a.items():\n",
        "    l.append(i)\n",
        "print(l)"
      ],
      "execution_count": null,
      "outputs": [
        {
          "output_type": "stream",
          "text": [
            "[('Ram', 9867576765), ('Shyam', 9857657)]\n"
          ],
          "name": "stdout"
        }
      ]
    },
    {
      "cell_type": "code",
      "metadata": {
        "id": "jlfaymPIMu48",
        "outputId": "8cc006b9-33bc-4f89-cb2e-3657fdf60392"
      },
      "source": [
        "d = {}\n",
        "a = [('Ram', 9867576765), ('Shyam', 9857657)]\n",
        "for i in a:\n",
        "    key = i[0]\n",
        "    value = i[1]\n",
        "    d[key] = value\n",
        "print(d)"
      ],
      "execution_count": null,
      "outputs": [
        {
          "output_type": "stream",
          "text": [
            "{'Ram': 9867576765, 'Shyam': 9857657}\n"
          ],
          "name": "stdout"
        }
      ]
    },
    {
      "cell_type": "code",
      "metadata": {
        "id": "yrwt6FHoMu48",
        "outputId": "9debb971-86d0-4ecb-e9ad-54c3c2ee6006"
      },
      "source": [
        "a = {1:\"Apple\",2:\"Ball\"}\n",
        "a*2"
      ],
      "execution_count": null,
      "outputs": [
        {
          "output_type": "error",
          "ename": "TypeError",
          "evalue": "unsupported operand type(s) for *: 'dict' and 'int'",
          "traceback": [
            "\u001b[1;31m---------------------------------------------------------------------------\u001b[0m",
            "\u001b[1;31mTypeError\u001b[0m                                 Traceback (most recent call last)",
            "\u001b[1;32m<ipython-input-32-0f1c9414b136>\u001b[0m in \u001b[0;36m<module>\u001b[1;34m\u001b[0m\n\u001b[0;32m      1\u001b[0m \u001b[0ma\u001b[0m \u001b[1;33m=\u001b[0m \u001b[1;33m{\u001b[0m\u001b[1;36m1\u001b[0m\u001b[1;33m:\u001b[0m\u001b[1;34m\"Apple\"\u001b[0m\u001b[1;33m,\u001b[0m\u001b[1;36m2\u001b[0m\u001b[1;33m:\u001b[0m\u001b[1;34m\"Ball\"\u001b[0m\u001b[1;33m}\u001b[0m\u001b[1;33m\u001b[0m\u001b[1;33m\u001b[0m\u001b[0m\n\u001b[1;32m----> 2\u001b[1;33m \u001b[0ma\u001b[0m\u001b[1;33m*\u001b[0m\u001b[1;36m2\u001b[0m\u001b[1;33m\u001b[0m\u001b[1;33m\u001b[0m\u001b[0m\n\u001b[0m",
            "\u001b[1;31mTypeError\u001b[0m: unsupported operand type(s) for *: 'dict' and 'int'"
          ]
        }
      ]
    },
    {
      "cell_type": "code",
      "metadata": {
        "id": "El-kJ8-VMu48"
      },
      "source": [
        "a = {1:\"Apple\",2:\"Ball\"}\n",
        "b = {\"1\":\"AA\"}\n",
        "b.update(a)"
      ],
      "execution_count": null,
      "outputs": []
    },
    {
      "cell_type": "code",
      "metadata": {
        "id": "Bx8SK1y4Mu49",
        "outputId": "ebbb81d6-27a3-4012-a918-4d3ad1eca234"
      },
      "source": [
        "b"
      ],
      "execution_count": null,
      "outputs": [
        {
          "output_type": "execute_result",
          "data": {
            "text/plain": [
              "{'1': 'AA', 1: 'Apple', 2: 'Ball'}"
            ]
          },
          "metadata": {
            "tags": []
          },
          "execution_count": 47
        }
      ]
    },
    {
      "cell_type": "code",
      "metadata": {
        "id": "edJMP0IcMu49",
        "outputId": "0c9fd2c0-3221-4e70-e211-bcf2e1cb2916"
      },
      "source": [
        "b = {'1': 'AA', 1: 'Apple', 2: 'Ball'}\n",
        "del b[1]\n",
        "b"
      ],
      "execution_count": null,
      "outputs": [
        {
          "output_type": "execute_result",
          "data": {
            "text/plain": [
              "{'1': 'AA', 2: 'Ball'}"
            ]
          },
          "metadata": {
            "tags": []
          },
          "execution_count": 50
        }
      ]
    },
    {
      "cell_type": "code",
      "metadata": {
        "id": "bQYziMWlMu49",
        "outputId": "6cf5d5fd-b6d4-43c4-d0f6-9cc763ddf02d"
      },
      "source": [
        "b = {1:\"Apple\",2:\"Ball\",3:\"cat\"}\n",
        "del b[1:2]"
      ],
      "execution_count": null,
      "outputs": [
        {
          "output_type": "error",
          "ename": "TypeError",
          "evalue": "unhashable type: 'slice'",
          "traceback": [
            "\u001b[1;31m---------------------------------------------------------------------------\u001b[0m",
            "\u001b[1;31mTypeError\u001b[0m                                 Traceback (most recent call last)",
            "\u001b[1;32m<ipython-input-52-f0436e786d30>\u001b[0m in \u001b[0;36m<module>\u001b[1;34m\u001b[0m\n\u001b[0;32m      1\u001b[0m \u001b[0mb\u001b[0m \u001b[1;33m=\u001b[0m \u001b[1;33m{\u001b[0m\u001b[1;36m1\u001b[0m\u001b[1;33m:\u001b[0m\u001b[1;34m\"Apple\"\u001b[0m\u001b[1;33m,\u001b[0m\u001b[1;36m2\u001b[0m\u001b[1;33m:\u001b[0m\u001b[1;34m\"Ball\"\u001b[0m\u001b[1;33m,\u001b[0m\u001b[1;36m3\u001b[0m\u001b[1;33m:\u001b[0m\u001b[1;34m\"cat\"\u001b[0m\u001b[1;33m}\u001b[0m\u001b[1;33m\u001b[0m\u001b[1;33m\u001b[0m\u001b[0m\n\u001b[1;32m----> 2\u001b[1;33m \u001b[1;32mdel\u001b[0m \u001b[0mb\u001b[0m\u001b[1;33m[\u001b[0m\u001b[1;36m1\u001b[0m\u001b[1;33m:\u001b[0m\u001b[1;36m2\u001b[0m\u001b[1;33m]\u001b[0m\u001b[1;33m\u001b[0m\u001b[1;33m\u001b[0m\u001b[0m\n\u001b[0m",
            "\u001b[1;31mTypeError\u001b[0m: unhashable type: 'slice'"
          ]
        }
      ]
    },
    {
      "cell_type": "code",
      "metadata": {
        "id": "1FFVXxSOMu49",
        "outputId": "8332b276-201e-40d3-d60b-e230b938442c"
      },
      "source": [
        "b = {1:\"Apple\",2:\"Ball\",3:\"cat\"}\n",
        "c = b.pop(2)\n",
        "print(b)\n",
        "print(c)"
      ],
      "execution_count": null,
      "outputs": [
        {
          "output_type": "stream",
          "text": [
            "{1: 'Apple', 3: 'cat'}\n",
            "Ball\n"
          ],
          "name": "stdout"
        }
      ]
    },
    {
      "cell_type": "code",
      "metadata": {
        "id": "GNOlEe3lMu4-",
        "outputId": "261808d4-f428-4a6f-f050-37c180e322d9"
      },
      "source": [
        "b.clear()\n",
        "print(b)"
      ],
      "execution_count": null,
      "outputs": [
        {
          "output_type": "stream",
          "text": [
            "{}\n"
          ],
          "name": "stdout"
        }
      ]
    },
    {
      "cell_type": "code",
      "metadata": {
        "id": "dqWUXR23Mu4-"
      },
      "source": [
        "a = {\"a\":[]} \n",
        "b = {\"a\":()}\n",
        "c = {\"a\":{}}"
      ],
      "execution_count": null,
      "outputs": []
    },
    {
      "cell_type": "code",
      "metadata": {
        "id": "fx9PmVttMu4-",
        "outputId": "496ffbf3-a22a-45b6-898f-0321916cf598"
      },
      "source": [
        "a = {(\"Apple\",\"Ball\"):\"a\"}\n",
        "a"
      ],
      "execution_count": null,
      "outputs": [
        {
          "output_type": "execute_result",
          "data": {
            "text/plain": [
              "{('Apple', 'Ball'): 'a'}"
            ]
          },
          "metadata": {
            "tags": []
          },
          "execution_count": 62
        }
      ]
    },
    {
      "cell_type": "code",
      "metadata": {
        "id": "N_86ejSoMu4-",
        "outputId": "3dc2fb5e-e252-4b06-b664-aa4b560f1c70"
      },
      "source": [
        "# list inside dicts\n",
        "a = {\"a\":[\"apple\",\"ant\"]} \n",
        "print(a[\"a\"])\n",
        "print(a[\"a\"][0])"
      ],
      "execution_count": null,
      "outputs": [
        {
          "output_type": "stream",
          "text": [
            "['apple', 'ant']\n",
            "apple\n"
          ],
          "name": "stdout"
        }
      ]
    },
    {
      "cell_type": "code",
      "metadata": {
        "id": "4S7cXHRqMu4_",
        "outputId": "d8762588-b450-4203-a18c-dfaa15e1acbc"
      },
      "source": [
        "a = {\"a\":[\"apple\",\"ant\"]} \n",
        "a[\"a\"].append(\"Apple\")\n",
        "print(a)"
      ],
      "execution_count": null,
      "outputs": [
        {
          "output_type": "stream",
          "text": [
            "{'a': ['apple', 'ant', 'Apple']}\n"
          ],
          "name": "stdout"
        }
      ]
    },
    {
      "cell_type": "code",
      "metadata": {
        "id": "s0JGB3FhMu4_",
        "outputId": "dd8ad7c4-7ee0-4940-d09b-fb6091a120e3"
      },
      "source": [
        "b = {1:\"Apple\",2:\"Ball\",3:\"Cat\"}\n",
        "c = b.pop(2)\n",
        "b"
      ],
      "execution_count": null,
      "outputs": [
        {
          "output_type": "execute_result",
          "data": {
            "text/plain": [
              "{1: 'Apple', 3: 'Cat'}"
            ]
          },
          "metadata": {
            "tags": []
          },
          "execution_count": 71
        }
      ]
    },
    {
      "cell_type": "code",
      "metadata": {
        "id": "kR3n0mUyMu4_",
        "outputId": "e1f9868a-60eb-4491-ef59-9511dcd90892"
      },
      "source": [
        "b[2]=c\n",
        "print(b)"
      ],
      "execution_count": null,
      "outputs": [
        {
          "output_type": "stream",
          "text": [
            "{1: 'Apple', 3: 'Cat', 2: 'Ball'}\n"
          ],
          "name": "stdout"
        }
      ]
    },
    {
      "cell_type": "code",
      "metadata": {
        "id": "o2-Ohsy_Mu4_",
        "outputId": "72d64a52-3bb0-4515-c3f3-8a71ecf2363f"
      },
      "source": [
        "d = {}\n",
        "n = int(input(\"Enter n = \"))\n",
        "for i in range(n):\n",
        "    name = input(\"Enter name = \")\n",
        "    ntc = int(input(\"Enter ntc no = \"))\n",
        "    ncell = int(input(\"Enter ncell no = \"))\n",
        "    d[i] = [name,ntc,ncell]      #point to remember\n",
        "    \n",
        "print(d)"
      ],
      "execution_count": null,
      "outputs": [
        {
          "output_type": "stream",
          "text": [
            "Enter n = 2\n",
            "Enter name = Ram\n",
            "Enter ntc no = 98789789\n",
            "Enter ncell no = 987987898\n",
            "Enter name = Syam\n",
            "Enter ntc no = 98890809\n",
            "Enter ncell no = 897897\n",
            "{0: ['Ram', 98789789, 987987898], 1: ['Syam', 98890809, 897897]}\n"
          ],
          "name": "stdout"
        }
      ]
    },
    {
      "cell_type": "code",
      "metadata": {
        "id": "q7U8xxoNMu5A",
        "outputId": "197e3ba0-60e7-4850-ab25-02196c9799ab"
      },
      "source": [
        "for i in d.values():\n",
        "    if \"Ram\" in i:\n",
        "        print(i)"
      ],
      "execution_count": null,
      "outputs": [
        {
          "output_type": "stream",
          "text": [
            "['Ram', 98789789, 987987898]\n"
          ],
          "name": "stdout"
        }
      ]
    },
    {
      "cell_type": "code",
      "metadata": {
        "id": "GOAORRJ8Mu5A",
        "outputId": "c258f683-de1a-4dd4-e444-6f642dc7f765",
        "colab": {
          "base_uri": "https://localhost:8080/"
        }
      },
      "source": [
        "d = {}\n",
        "n = int(input(\"Enter n = \"))\n",
        "for i in range(n):\n",
        "    name = input(\"Enter name = \")\n",
        "    ntc = int(input(\"Enter ntc no = \"))\n",
        "    ncell = int(input(\"Enter ncell no = \"))\n",
        "    d[i] = (name,ntc,ncell)   #point to remember\n",
        "    \n",
        "print(d)"
      ],
      "execution_count": 1,
      "outputs": [
        {
          "output_type": "stream",
          "text": [
            "Enter n = 2\n",
            "Enter name = sdf\n",
            "Enter ntc no = 234\n",
            "Enter ncell no = 123\n",
            "Enter name = wer\n",
            "Enter ntc no = 123\n",
            "Enter ncell no = 234\n",
            "{0: ('sdf', 234, 123), 1: ('wer', 123, 234)}\n"
          ],
          "name": "stdout"
        }
      ]
    },
    {
      "cell_type": "code",
      "metadata": {
        "id": "S1O5ryAMMu5A",
        "outputId": "a3076bdf-a5a5-4a56-d9fb-3b7a8dd5ddc3"
      },
      "source": [
        "#dictionary inside dictionary\n",
        "# d = {<Key>:{<key>:<value>},...}\n",
        "d = {\"Ram\":{\"Ncell\":98878768,\"Ntc\":98765576},\n",
        "    \"Shyam\":{\"Ncell\":98776776,\"Nct\":98765676}}\n",
        "d"
      ],
      "execution_count": null,
      "outputs": [
        {
          "output_type": "execute_result",
          "data": {
            "text/plain": [
              "{'Ram': {'Ncell': 98878768, 'Ntc': 98765576},\n",
              " 'Shyam': {'Ncell': 98776776, 'Nct': 98765676}}"
            ]
          },
          "metadata": {
            "tags": []
          },
          "execution_count": 11
        }
      ]
    },
    {
      "cell_type": "code",
      "metadata": {
        "id": "U3EE1cN_Mu5B",
        "outputId": "aacdab34-093c-4482-a43c-30d11b0efcf9"
      },
      "source": [
        "for i in d.values():\n",
        "    print(i)"
      ],
      "execution_count": null,
      "outputs": [
        {
          "output_type": "stream",
          "text": [
            "{'Ncell': 98878768, 'Ntc': 98765576}\n",
            "{'Ncell': 98776776, 'Nct': 98765676}\n"
          ],
          "name": "stdout"
        }
      ]
    },
    {
      "cell_type": "code",
      "metadata": {
        "id": "_DBvjL5NMu5B",
        "outputId": "777dbd3f-c7cb-405f-b745-84c085485fc2"
      },
      "source": [
        "for i in d.items():\n",
        "    print(i)"
      ],
      "execution_count": null,
      "outputs": [
        {
          "output_type": "stream",
          "text": [
            "('Ram', {'Ncell': 98878768, 'Ntc': 98765576})\n",
            "('Shyam', {'Ncell': 98776776, 'Nct': 98765676})\n"
          ],
          "name": "stdout"
        }
      ]
    },
    {
      "cell_type": "code",
      "metadata": {
        "id": "6R543ZUBMu5B",
        "outputId": "09c41761-6bff-4faf-ea36-4c9bbda5dfe6"
      },
      "source": [
        "print(d)\n",
        "print(d[\"Ram\"])\n",
        "print(d[\"Ram\"][\"Ncell\"])"
      ],
      "execution_count": null,
      "outputs": [
        {
          "output_type": "stream",
          "text": [
            "{'Ram': {'Ncell': 98878768, 'Ntc': 98765576}, 'Shyam': {'Ncell': 98776776, 'Nct': 98765676}}\n",
            "{'Ncell': 98878768, 'Ntc': 98765576}\n",
            "98878768\n"
          ],
          "name": "stdout"
        }
      ]
    },
    {
      "cell_type": "code",
      "metadata": {
        "id": "YrRpvim3Mu5B",
        "outputId": "c31332ed-f307-486a-d63f-2b8ecf3c166c"
      },
      "source": [
        "data = {}\n",
        "n = int(input(\"Enter n = \"))\n",
        "for i in range(n):\n",
        "    name = input(\"Enter name = \")\n",
        "    ncell = input(\"Enter ncell = \")\n",
        "    ntc = input(\"Enter ntc = \")\n",
        "    v = {\"ncell\":ncell,\"ntc\":ntc}\n",
        "    data[name] = v    #point to remember\n",
        "print(data)"
      ],
      "execution_count": null,
      "outputs": [
        {
          "output_type": "stream",
          "text": [
            "Enter n = 2\n",
            "Enter name = sfdf\n",
            "Enter ncell = 23423\n",
            "Enter ntc = 2423434\n",
            "Enter name = dfsfds\n",
            "Enter ncell = 234234\n",
            "Enter ntc = 234234\n",
            "{'sfdf': {'ncell': '23423', 'ntc': '2423434'}, 'dfsfds': {'ncell': '234234', 'ntc': '234234'}}\n"
          ],
          "name": "stdout"
        }
      ]
    },
    {
      "cell_type": "code",
      "metadata": {
        "id": "BUrxKQZbMu5C",
        "outputId": "ea97a110-c5d6-4996-b718-fada9a44f14f"
      },
      "source": [
        "a = {'Ram': {'Ncell': 98878768, 'Ntc': 98765576}, \n",
        "     'Shyam': {'Ncell': 98776776, 'Nct': 98765676}}\n",
        "a['Ram']['Ntc'] = 9876765\n",
        "a"
      ],
      "execution_count": null,
      "outputs": [
        {
          "output_type": "execute_result",
          "data": {
            "text/plain": [
              "{'Ram': {'Ncell': 98878768, 'Ntc': 9876765},\n",
              " 'Shyam': {'Ncell': 98776776, 'Nct': 98765676}}"
            ]
          },
          "metadata": {
            "tags": []
          },
          "execution_count": 17
        }
      ]
    },
    {
      "cell_type": "code",
      "metadata": {
        "id": "uSrT8PrUMu5C",
        "outputId": "bd1f9671-7f47-4e40-a286-8edf46e41f4c"
      },
      "source": [
        "a['Ram']['Land'] = 4456556\n",
        "a"
      ],
      "execution_count": null,
      "outputs": [
        {
          "output_type": "execute_result",
          "data": {
            "text/plain": [
              "{'Ram': {'Ncell': 98878768, 'Ntc': 9876765, 'Land': 4456556},\n",
              " 'Shyam': {'Ncell': 98776776, 'Nct': 98765676}}"
            ]
          },
          "metadata": {
            "tags": []
          },
          "execution_count": 19
        }
      ]
    },
    {
      "cell_type": "code",
      "metadata": {
        "id": "vVT5qxilMu5C"
      },
      "source": [
        "# a = [{<key>:<value>},{<key>:<value>}]"
      ],
      "execution_count": null,
      "outputs": []
    },
    {
      "cell_type": "code",
      "metadata": {
        "id": "mSKKJMqzMu5C"
      },
      "source": [
        "a = [{\"title\":\"Glass\",\"price\":350,\"description\":\"good glass\",\"discounted_price\":100,\"status\":\"In\",\"label\":\"hot\",\"image\":\"http://127.0.0.1:8000/media/media/top_10_symbolic_chinese_foods__from_fish_to_fowl02846bb27ede533c3513.jpg\",\"category\":3,\"brand\":1},{\"title\":\"T shirt\",\"price\":1000,\"description\":\"cool fashion\",\"discounted_price\":999,\"status\":\"In\",\"label\":\"hot\",\"image\":\"http://127.0.0.1:8000/media/https%3A/static-01.daraz.com.np/p/0508473781e3ea5ebbafdec2b13c8d75.jpg_170x170q80-product.jpg_.webp\",\"category\":3,\"brand\":1},{\"title\":\"Head Phone\",\"price\":2000,\"description\":\"This head phone have good sound quality.\",\"discounted_price\":1999,\"status\":\"In\",\"label\":\"new\",\"image\":\"http://127.0.0.1:8000/media/media/chinese.jpg\",\"category\":1,\"brand\":1},{\"title\":\"Acer laptop\",\"price\":350,\"description\":\"dsddasdas\",\"discounted_price\":0,\"status\":\"In\",\"label\":\"new\",\"image\":\"http://127.0.0.1:8000/media/media/soup_pNgz9Jg.jpg\",\"category\":1,\"brand\":1}]"
      ],
      "execution_count": null,
      "outputs": []
    },
    {
      "cell_type": "code",
      "metadata": {
        "id": "T4LSI0R4Mu5D",
        "outputId": "f4902b99-8329-431a-c65f-212dfbc5e92e"
      },
      "source": [
        "for i in a:\n",
        "    print(i[\"title\"],i['price'])\n"
      ],
      "execution_count": null,
      "outputs": [
        {
          "output_type": "stream",
          "text": [
            "Glass 350\n",
            "T shirt 1000\n",
            "Head Phone 2000\n",
            "Acer laptop 350\n"
          ],
          "name": "stdout"
        }
      ]
    },
    {
      "cell_type": "code",
      "metadata": {
        "id": "OzT_GSGnMu5D"
      },
      "source": [
        "a = [{\"title\":\"Glass\",\"price\":350,\"description\":\"good glass\",\"discounted_price\":100,\"status\":\"In\",\"label\":\"hot\",\"image\":\"http://127.0.0.1:8000/media/media/top_10_symbolic_chinese_foods__from_fish_to_fowl02846bb27ede533c3513.jpg\",\"category\":3,\"brand\":1},\n",
        "     {\"title\":\"T shirt\",\"price\":1000,\"description\":\"cool fashion\",\"discounted_price\":999,\"status\":\"In\",\"label\":\"hot\",\"image\":\"http://127.0.0.1:8000/media/https%3A/static-01.daraz.com.np/p/0508473781e3ea5ebbafdec2b13c8d75.jpg_170x170q80-product.jpg_.webp\",\"category\":3,\"brand\":1},\n",
        "     {\"title\":\"Head Phone\",\"price\":2000,\"description\":\"This head phone have good sound quality.\",\"discounted_price\":1999,\"status\":\"In\",\"label\":\"new\",\"image\":\"http://127.0.0.1:8000/media/media/chinese.jpg\",\"category\":1,\"brand\":1},\n",
        "     {\"title\":\"Acer laptop\",\"price\":350,\"description\":\"dsddasdas\",\"discounted_price\":0,\"status\":\"In\",\"label\":\"new\",\"image\":\"http://127.0.0.1:8000/media/media/soup_pNgz9Jg.jpg\",\"category\":1,\"brand\":1}]\n",
        "b = {\"title\":\"Dell laptop\",\"price\":35000,\"description\":\"dsddasdas\",\"discounted_price\":0,\"status\":\"In\",\"label\":\"new\",\"image\":\"soup_pNgz9Jg.jpg\",\"category\":1,\"brand\":1}\n",
        "a.append(b)"
      ],
      "execution_count": null,
      "outputs": []
    },
    {
      "cell_type": "code",
      "metadata": {
        "id": "Xo_Hog2_Mu5D",
        "outputId": "3ea5df7b-c2e5-449b-cdc5-760445a27e61"
      },
      "source": [
        "print(a)"
      ],
      "execution_count": null,
      "outputs": [
        {
          "output_type": "stream",
          "text": [
            "[{'title': 'Glass', 'price': 350, 'description': 'good glass', 'discounted_price': 100, 'status': 'In', 'label': 'hot', 'image': 'http://127.0.0.1:8000/media/media/top_10_symbolic_chinese_foods__from_fish_to_fowl02846bb27ede533c3513.jpg', 'category': 3, 'brand': 1}, {'title': 'T shirt', 'price': 1000, 'description': 'cool fashion', 'discounted_price': 999, 'status': 'In', 'label': 'hot', 'image': 'http://127.0.0.1:8000/media/https%3A/static-01.daraz.com.np/p/0508473781e3ea5ebbafdec2b13c8d75.jpg_170x170q80-product.jpg_.webp', 'category': 3, 'brand': 1}, {'title': 'Head Phone', 'price': 2000, 'description': 'This head phone have good sound quality.', 'discounted_price': 1999, 'status': 'In', 'label': 'new', 'image': 'http://127.0.0.1:8000/media/media/chinese.jpg', 'category': 1, 'brand': 1}, {'title': 'Acer laptop', 'price': 350, 'description': 'dsddasdas', 'discounted_price': 0, 'status': 'In', 'label': 'new', 'image': 'http://127.0.0.1:8000/media/media/soup_pNgz9Jg.jpg', 'category': 1, 'brand': 1}, {'title': 'Dell laptop', 'price': 35000, 'description': 'dsddasdas', 'discounted_price': 0, 'status': 'In', 'label': 'new', 'image': 'soup_pNgz9Jg.jpg', 'category': 1, 'brand': 1}]\n"
          ],
          "name": "stdout"
        }
      ]
    },
    {
      "cell_type": "code",
      "metadata": {
        "id": "oQjEcWwfMu5D"
      },
      "source": [
        "#wap of data entry program with crud operation\r\n",
        "#how to search in dictionary inside list"
      ],
      "execution_count": null,
      "outputs": []
    },
    {
      "cell_type": "code",
      "metadata": {
        "id": "eaaPTzqd1TmT",
        "outputId": "512c3528-326b-4ba2-bace-9fc2f3ebce34",
        "colab": {
          "base_uri": "https://localhost:8080/"
        }
      },
      "source": [
        "#wap of data entry program of department store with crud operation\r\n",
        "\r\n",
        "data = {}\r\n",
        "n=int(input(\"how many entities are there =\"))\r\n",
        "for i in range(n):\r\n",
        "  name = input(\"what is your name =\")\r\n",
        "  product = input(\"your product name is =\")\r\n",
        "  price = int(input(\"your product price is =\"))\r\n",
        "  quantity = int(input(\"your quantity of your product is =\"))\r\n",
        "  quantity_number = int(input(\"your quantity is =\"))\r\n",
        "  total = price * quantity\r\n",
        "  v = {\"product\":price,\"quantity\":quantity_number,\"total\":total}\r\n",
        "  data[name] = v\r\n",
        "print(data)"
      ],
      "execution_count": 4,
      "outputs": [
        {
          "output_type": "stream",
          "text": [
            "how many entities are there =1\n",
            "what is your name =Akash\n",
            "your product name is =soap\n",
            "your product price is =20\n",
            "your quantity of your product is =2\n",
            "your quantity is =2\n",
            "{'Akash': {'product': 20, 'quantity': 2, 'total': 40}}\n"
          ],
          "name": "stdout"
        }
      ]
    }
  ]
}